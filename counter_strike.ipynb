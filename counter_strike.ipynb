{
 "cells": [
  {
   "cell_type": "code",
   "execution_count": 3,
   "metadata": {},
   "outputs": [],
   "source": [
    "import pandas as pd\n",
    "import numpy as np"
   ]
  },
  {
   "cell_type": "code",
   "execution_count": 4,
   "metadata": {},
   "outputs": [
    {
     "data": {
      "text/html": [
       "<div>\n",
       "<style scoped>\n",
       "    .dataframe tbody tr th:only-of-type {\n",
       "        vertical-align: middle;\n",
       "    }\n",
       "\n",
       "    .dataframe tbody tr th {\n",
       "        vertical-align: top;\n",
       "    }\n",
       "\n",
       "    .dataframe thead th {\n",
       "        text-align: right;\n",
       "    }\n",
       "</style>\n",
       "<table border=\"1\" class=\"dataframe\">\n",
       "  <thead>\n",
       "    <tr style=\"text-align: right;\">\n",
       "      <th></th>\n",
       "      <th>Map</th>\n",
       "      <th>Play Rate</th>\n",
       "      <th>T-Win %</th>\n",
       "      <th>CT-Win %</th>\n",
       "      <th>Matches</th>\n",
       "    </tr>\n",
       "  </thead>\n",
       "  <tbody>\n",
       "    <tr>\n",
       "      <th>0</th>\n",
       "      <td>Dust II</td>\n",
       "      <td>26.7%</td>\n",
       "      <td>49.2%</td>\n",
       "      <td>50.8%</td>\n",
       "      <td>168,288</td>\n",
       "    </tr>\n",
       "    <tr>\n",
       "      <th>1</th>\n",
       "      <td>Mirage</td>\n",
       "      <td>23.9%</td>\n",
       "      <td>49.1%</td>\n",
       "      <td>50.9%</td>\n",
       "      <td>150,883</td>\n",
       "    </tr>\n",
       "    <tr>\n",
       "      <th>2</th>\n",
       "      <td>Inferno</td>\n",
       "      <td>13.1%</td>\n",
       "      <td>50.3%</td>\n",
       "      <td>49.7%</td>\n",
       "      <td>82,737</td>\n",
       "    </tr>\n",
       "    <tr>\n",
       "      <th>3</th>\n",
       "      <td>Nuke</td>\n",
       "      <td>4.3%</td>\n",
       "      <td>47.0%</td>\n",
       "      <td>53.0%</td>\n",
       "      <td>27,211</td>\n",
       "    </tr>\n",
       "    <tr>\n",
       "      <th>4</th>\n",
       "      <td>Vertigo</td>\n",
       "      <td>4.0%</td>\n",
       "      <td>47.8%</td>\n",
       "      <td>52.2%</td>\n",
       "      <td>25,390</td>\n",
       "    </tr>\n",
       "  </tbody>\n",
       "</table>\n",
       "</div>"
      ],
      "text/plain": [
       "       Map Play Rate T-Win % CT-Win %  Matches\n",
       "0  Dust II     26.7%   49.2%    50.8%  168,288\n",
       "1   Mirage     23.9%   49.1%    50.9%  150,883\n",
       "2  Inferno     13.1%   50.3%    49.7%   82,737\n",
       "3     Nuke      4.3%   47.0%    53.0%   27,211\n",
       "4  Vertigo      4.0%   47.8%    52.2%   25,390"
      ]
     },
     "execution_count": 4,
     "metadata": {},
     "output_type": "execute_result"
    }
   ],
   "source": [
    "maps = pd.read_csv(\"maps_statistics.csv\")\n",
    "maps.head()"
   ]
  },
  {
   "cell_type": "code",
   "execution_count": null,
   "metadata": {},
   "outputs": [],
   "source": []
  }
 ],
 "metadata": {
  "kernelspec": {
   "display_name": "Python 3",
   "language": "python",
   "name": "python3"
  },
  "language_info": {
   "codemirror_mode": {
    "name": "ipython",
    "version": 3
   },
   "file_extension": ".py",
   "mimetype": "text/x-python",
   "name": "python",
   "nbconvert_exporter": "python",
   "pygments_lexer": "ipython3",
   "version": "3.12.0"
  }
 },
 "nbformat": 4,
 "nbformat_minor": 2
}
