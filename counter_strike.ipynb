{
 "cells": [
  {
   "cell_type": "code",
   "execution_count": 2,
   "metadata": {},
   "outputs": [
    {
     "name": "stderr",
     "output_type": "stream",
     "text": [
      "C:\\Users\\enghe\\AppData\\Local\\Temp\\ipykernel_25584\\555797462.py:1: DeprecationWarning: \n",
      "Pyarrow will become a required dependency of pandas in the next major release of pandas (pandas 3.0),\n",
      "(to allow more performant data types, such as the Arrow string type, and better interoperability with other libraries)\n",
      "but was not found to be installed on your system.\n",
      "If this would cause problems for you,\n",
      "please provide us feedback at https://github.com/pandas-dev/pandas/issues/54466\n",
      "        \n",
      "  import pandas as pd\n"
     ]
    }
   ],
   "source": [
    "import pandas as pd\n",
    "import numpy as np\n",
    "import matplotlib.pyplot as plt\n",
    "import seaborn as sns"
   ]
  },
  {
   "cell_type": "code",
   "execution_count": 18,
   "metadata": {},
   "outputs": [
    {
     "data": {
      "text/html": [
       "<div>\n",
       "<style scoped>\n",
       "    .dataframe tbody tr th:only-of-type {\n",
       "        vertical-align: middle;\n",
       "    }\n",
       "\n",
       "    .dataframe tbody tr th {\n",
       "        vertical-align: top;\n",
       "    }\n",
       "\n",
       "    .dataframe thead th {\n",
       "        text-align: right;\n",
       "    }\n",
       "</style>\n",
       "<table border=\"1\" class=\"dataframe\">\n",
       "  <thead>\n",
       "    <tr style=\"text-align: right;\">\n",
       "      <th></th>\n",
       "      <th>Map</th>\n",
       "      <th>Play Rate</th>\n",
       "      <th>T-Win %</th>\n",
       "      <th>CT-Win %</th>\n",
       "      <th>Matches</th>\n",
       "    </tr>\n",
       "  </thead>\n",
       "  <tbody>\n",
       "    <tr>\n",
       "      <th>0</th>\n",
       "      <td>Dust II</td>\n",
       "      <td>26.7%</td>\n",
       "      <td>49.2%</td>\n",
       "      <td>50.8%</td>\n",
       "      <td>168,288</td>\n",
       "    </tr>\n",
       "    <tr>\n",
       "      <th>1</th>\n",
       "      <td>Mirage</td>\n",
       "      <td>23.9%</td>\n",
       "      <td>49.1%</td>\n",
       "      <td>50.9%</td>\n",
       "      <td>150,883</td>\n",
       "    </tr>\n",
       "    <tr>\n",
       "      <th>2</th>\n",
       "      <td>Inferno</td>\n",
       "      <td>13.1%</td>\n",
       "      <td>50.3%</td>\n",
       "      <td>49.7%</td>\n",
       "      <td>82,737</td>\n",
       "    </tr>\n",
       "    <tr>\n",
       "      <th>3</th>\n",
       "      <td>Nuke</td>\n",
       "      <td>4.3%</td>\n",
       "      <td>47.0%</td>\n",
       "      <td>53.0%</td>\n",
       "      <td>27,211</td>\n",
       "    </tr>\n",
       "    <tr>\n",
       "      <th>4</th>\n",
       "      <td>Vertigo</td>\n",
       "      <td>4.0%</td>\n",
       "      <td>47.8%</td>\n",
       "      <td>52.2%</td>\n",
       "      <td>25,390</td>\n",
       "    </tr>\n",
       "  </tbody>\n",
       "</table>\n",
       "</div>"
      ],
      "text/plain": [
       "       Map Play Rate T-Win % CT-Win %  Matches\n",
       "0  Dust II     26.7%   49.2%    50.8%  168,288\n",
       "1   Mirage     23.9%   49.1%    50.9%  150,883\n",
       "2  Inferno     13.1%   50.3%    49.7%   82,737\n",
       "3     Nuke      4.3%   47.0%    53.0%   27,211\n",
       "4  Vertigo      4.0%   47.8%    52.2%   25,390"
      ]
     },
     "execution_count": 18,
     "metadata": {},
     "output_type": "execute_result"
    }
   ],
   "source": [
    "maps = pd.read_csv(\"maps_statistics.csv\")\n",
    "maps.head()"
   ]
  },
  {
   "cell_type": "code",
   "execution_count": 6,
   "metadata": {},
   "outputs": [
    {
     "name": "stdout",
     "output_type": "stream",
     "text": [
      "<class 'pandas.core.frame.DataFrame'>\n",
      "RangeIndex: 10 entries, 0 to 9\n",
      "Data columns (total 5 columns):\n",
      " #   Column     Non-Null Count  Dtype \n",
      "---  ------     --------------  ----- \n",
      " 0   Map        10 non-null     object\n",
      " 1   Play Rate  10 non-null     object\n",
      " 2   T-Win %    10 non-null     object\n",
      " 3   CT-Win %   10 non-null     object\n",
      " 4   Matches    10 non-null     object\n",
      "dtypes: object(5)\n",
      "memory usage: 532.0+ bytes\n"
     ]
    }
   ],
   "source": [
    "maps.info()"
   ]
  },
  {
   "cell_type": "code",
   "execution_count": 61,
   "metadata": {},
   "outputs": [
    {
     "data": {
      "text/plain": [
       "Map    Play Rate  T-Win  CT-Win  Matches\n",
       "False  False      False  False   False      10\n",
       "Name: count, dtype: int64"
      ]
     },
     "execution_count": 61,
     "metadata": {},
     "output_type": "execute_result"
    }
   ],
   "source": [
    "maps.isna().value_counts()"
   ]
  },
  {
   "cell_type": "code",
   "execution_count": 7,
   "metadata": {},
   "outputs": [
    {
     "data": {
      "text/html": [
       "<div>\n",
       "<style scoped>\n",
       "    .dataframe tbody tr th:only-of-type {\n",
       "        vertical-align: middle;\n",
       "    }\n",
       "\n",
       "    .dataframe tbody tr th {\n",
       "        vertical-align: top;\n",
       "    }\n",
       "\n",
       "    .dataframe thead th {\n",
       "        text-align: right;\n",
       "    }\n",
       "</style>\n",
       "<table border=\"1\" class=\"dataframe\">\n",
       "  <thead>\n",
       "    <tr style=\"text-align: right;\">\n",
       "      <th></th>\n",
       "      <th>Map</th>\n",
       "      <th>Play Rate</th>\n",
       "      <th>T-Win %</th>\n",
       "      <th>CT-Win %</th>\n",
       "      <th>Matches</th>\n",
       "    </tr>\n",
       "  </thead>\n",
       "  <tbody>\n",
       "    <tr>\n",
       "      <th>count</th>\n",
       "      <td>10</td>\n",
       "      <td>10</td>\n",
       "      <td>10</td>\n",
       "      <td>10</td>\n",
       "      <td>10</td>\n",
       "    </tr>\n",
       "    <tr>\n",
       "      <th>unique</th>\n",
       "      <td>10</td>\n",
       "      <td>10</td>\n",
       "      <td>10</td>\n",
       "      <td>10</td>\n",
       "      <td>10</td>\n",
       "    </tr>\n",
       "    <tr>\n",
       "      <th>top</th>\n",
       "      <td>Dust II</td>\n",
       "      <td>26.7%</td>\n",
       "      <td>49.2%</td>\n",
       "      <td>50.8%</td>\n",
       "      <td>168,288</td>\n",
       "    </tr>\n",
       "    <tr>\n",
       "      <th>freq</th>\n",
       "      <td>1</td>\n",
       "      <td>1</td>\n",
       "      <td>1</td>\n",
       "      <td>1</td>\n",
       "      <td>1</td>\n",
       "    </tr>\n",
       "  </tbody>\n",
       "</table>\n",
       "</div>"
      ],
      "text/plain": [
       "            Map Play Rate T-Win % CT-Win %  Matches\n",
       "count        10        10      10       10       10\n",
       "unique       10        10      10       10       10\n",
       "top     Dust II     26.7%   49.2%    50.8%  168,288\n",
       "freq          1         1       1        1        1"
      ]
     },
     "execution_count": 7,
     "metadata": {},
     "output_type": "execute_result"
    }
   ],
   "source": [
    "maps.describe()"
   ]
  },
  {
   "cell_type": "code",
   "execution_count": 16,
   "metadata": {},
   "outputs": [
    {
     "data": {
      "text/html": [
       "<div>\n",
       "<style scoped>\n",
       "    .dataframe tbody tr th:only-of-type {\n",
       "        vertical-align: middle;\n",
       "    }\n",
       "\n",
       "    .dataframe tbody tr th {\n",
       "        vertical-align: top;\n",
       "    }\n",
       "\n",
       "    .dataframe thead th {\n",
       "        text-align: right;\n",
       "    }\n",
       "</style>\n",
       "<table border=\"1\" class=\"dataframe\">\n",
       "  <thead>\n",
       "    <tr style=\"text-align: right;\">\n",
       "      <th></th>\n",
       "      <th>Map</th>\n",
       "      <th>Play Rate</th>\n",
       "      <th>T-Win %</th>\n",
       "      <th>CT-Win %</th>\n",
       "      <th>Matches</th>\n",
       "    </tr>\n",
       "  </thead>\n",
       "  <tbody>\n",
       "    <tr>\n",
       "      <th>0</th>\n",
       "      <td>Dust II</td>\n",
       "      <td>26.7</td>\n",
       "      <td>49.2%</td>\n",
       "      <td>50.8%</td>\n",
       "      <td>168,288</td>\n",
       "    </tr>\n",
       "    <tr>\n",
       "      <th>1</th>\n",
       "      <td>Mirage</td>\n",
       "      <td>23.9</td>\n",
       "      <td>49.1%</td>\n",
       "      <td>50.9%</td>\n",
       "      <td>150,883</td>\n",
       "    </tr>\n",
       "    <tr>\n",
       "      <th>2</th>\n",
       "      <td>Inferno</td>\n",
       "      <td>13.1</td>\n",
       "      <td>50.3%</td>\n",
       "      <td>49.7%</td>\n",
       "      <td>82,737</td>\n",
       "    </tr>\n",
       "    <tr>\n",
       "      <th>3</th>\n",
       "      <td>Nuke</td>\n",
       "      <td>4.3</td>\n",
       "      <td>47.0%</td>\n",
       "      <td>53.0%</td>\n",
       "      <td>27,211</td>\n",
       "    </tr>\n",
       "    <tr>\n",
       "      <th>4</th>\n",
       "      <td>Vertigo</td>\n",
       "      <td>4.0</td>\n",
       "      <td>47.8%</td>\n",
       "      <td>52.2%</td>\n",
       "      <td>25,390</td>\n",
       "    </tr>\n",
       "  </tbody>\n",
       "</table>\n",
       "</div>"
      ],
      "text/plain": [
       "       Map Play Rate T-Win % CT-Win %  Matches\n",
       "0  Dust II      26.7   49.2%    50.8%  168,288\n",
       "1   Mirage      23.9   49.1%    50.9%  150,883\n",
       "2  Inferno      13.1   50.3%    49.7%   82,737\n",
       "3     Nuke       4.3   47.0%    53.0%   27,211\n",
       "4  Vertigo       4.0   47.8%    52.2%   25,390"
      ]
     },
     "execution_count": 16,
     "metadata": {},
     "output_type": "execute_result"
    }
   ],
   "source": [
    "maps.head()"
   ]
  },
  {
   "cell_type": "code",
   "execution_count": 19,
   "metadata": {},
   "outputs": [],
   "source": [
    "maps.rename(columns={\"T-Win %\": \"T-Win\", \"CT-Win %\": \"CT-Win\"}, inplace=True)\n"
   ]
  },
  {
   "cell_type": "code",
   "execution_count": 20,
   "metadata": {},
   "outputs": [],
   "source": [
    "maps['Play Rate'] = maps['Play Rate'].str.rstrip(\"%\").astype(\"float\")\n",
    "maps['T-Win'] = maps['T-Win'].str.rstrip(\"%\").astype(\"float\")\n",
    "maps['CT-Win'] = maps['CT-Win'].str.rstrip(\"%\").astype(\"float\")\n",
    "maps['Matches'] = maps['Matches'].str.replace(\",\", \"\").astype(\"int\")"
   ]
  },
  {
   "cell_type": "code",
   "execution_count": 31,
   "metadata": {},
   "outputs": [
    {
     "data": {
      "text/plain": [
       "Map           object\n",
       "Play Rate    float64\n",
       "T-Win        float64\n",
       "CT-Win       float64\n",
       "Matches        int32\n",
       "dtype: object"
      ]
     },
     "execution_count": 31,
     "metadata": {},
     "output_type": "execute_result"
    }
   ],
   "source": [
    "maps.dtypes"
   ]
  },
  {
   "cell_type": "code",
   "execution_count": 33,
   "metadata": {},
   "outputs": [
    {
     "data": {
      "text/html": [
       "<div>\n",
       "<style scoped>\n",
       "    .dataframe tbody tr th:only-of-type {\n",
       "        vertical-align: middle;\n",
       "    }\n",
       "\n",
       "    .dataframe tbody tr th {\n",
       "        vertical-align: top;\n",
       "    }\n",
       "\n",
       "    .dataframe thead th {\n",
       "        text-align: right;\n",
       "    }\n",
       "</style>\n",
       "<table border=\"1\" class=\"dataframe\">\n",
       "  <thead>\n",
       "    <tr style=\"text-align: right;\">\n",
       "      <th></th>\n",
       "      <th>Map</th>\n",
       "      <th>Play Rate</th>\n",
       "      <th>T-Win</th>\n",
       "      <th>CT-Win</th>\n",
       "      <th>Matches</th>\n",
       "    </tr>\n",
       "  </thead>\n",
       "  <tbody>\n",
       "    <tr>\n",
       "      <th>0</th>\n",
       "      <td>Dust II</td>\n",
       "      <td>26.7</td>\n",
       "      <td>49.2</td>\n",
       "      <td>50.8</td>\n",
       "      <td>168288</td>\n",
       "    </tr>\n",
       "    <tr>\n",
       "      <th>1</th>\n",
       "      <td>Mirage</td>\n",
       "      <td>23.9</td>\n",
       "      <td>49.1</td>\n",
       "      <td>50.9</td>\n",
       "      <td>150883</td>\n",
       "    </tr>\n",
       "    <tr>\n",
       "      <th>2</th>\n",
       "      <td>Inferno</td>\n",
       "      <td>13.1</td>\n",
       "      <td>50.3</td>\n",
       "      <td>49.7</td>\n",
       "      <td>82737</td>\n",
       "    </tr>\n",
       "    <tr>\n",
       "      <th>3</th>\n",
       "      <td>Nuke</td>\n",
       "      <td>4.3</td>\n",
       "      <td>47.0</td>\n",
       "      <td>53.0</td>\n",
       "      <td>27211</td>\n",
       "    </tr>\n",
       "    <tr>\n",
       "      <th>4</th>\n",
       "      <td>Vertigo</td>\n",
       "      <td>4.0</td>\n",
       "      <td>47.8</td>\n",
       "      <td>52.2</td>\n",
       "      <td>25390</td>\n",
       "    </tr>\n",
       "  </tbody>\n",
       "</table>\n",
       "</div>"
      ],
      "text/plain": [
       "       Map  Play Rate  T-Win  CT-Win  Matches\n",
       "0  Dust II       26.7   49.2    50.8   168288\n",
       "1   Mirage       23.9   49.1    50.9   150883\n",
       "2  Inferno       13.1   50.3    49.7    82737\n",
       "3     Nuke        4.3   47.0    53.0    27211\n",
       "4  Vertigo        4.0   47.8    52.2    25390"
      ]
     },
     "execution_count": 33,
     "metadata": {},
     "output_type": "execute_result"
    }
   ],
   "source": [
    "maps.head()"
   ]
  },
  {
   "cell_type": "code",
   "execution_count": 21,
   "metadata": {},
   "outputs": [
    {
     "data": {
      "text/html": [
       "<div>\n",
       "<style scoped>\n",
       "    .dataframe tbody tr th:only-of-type {\n",
       "        vertical-align: middle;\n",
       "    }\n",
       "\n",
       "    .dataframe tbody tr th {\n",
       "        vertical-align: top;\n",
       "    }\n",
       "\n",
       "    .dataframe thead th {\n",
       "        text-align: right;\n",
       "    }\n",
       "</style>\n",
       "<table border=\"1\" class=\"dataframe\">\n",
       "  <thead>\n",
       "    <tr style=\"text-align: right;\">\n",
       "      <th></th>\n",
       "      <th>Rank</th>\n",
       "      <th>Name</th>\n",
       "      <th>CS Rating</th>\n",
       "      <th>Region</th>\n",
       "      <th>Wins</th>\n",
       "      <th>Ties</th>\n",
       "      <th>Losses</th>\n",
       "    </tr>\n",
       "  </thead>\n",
       "  <tbody>\n",
       "    <tr>\n",
       "      <th>0</th>\n",
       "      <td>1</td>\n",
       "      <td>sH0oRuk YouTube</td>\n",
       "      <td>31,203</td>\n",
       "      <td>Asia</td>\n",
       "      <td>278</td>\n",
       "      <td>9</td>\n",
       "      <td>98</td>\n",
       "    </tr>\n",
       "    <tr>\n",
       "      <th>1</th>\n",
       "      <td>2</td>\n",
       "      <td>TTpo100Razeb Daniel</td>\n",
       "      <td>29,626</td>\n",
       "      <td>Europe</td>\n",
       "      <td>250</td>\n",
       "      <td>12</td>\n",
       "      <td>174</td>\n",
       "    </tr>\n",
       "    <tr>\n",
       "      <th>2</th>\n",
       "      <td>3</td>\n",
       "      <td>REZPEZTâ¢</td>\n",
       "      <td>29,588</td>\n",
       "      <td>Europe</td>\n",
       "      <td>133</td>\n",
       "      <td>2</td>\n",
       "      <td>58</td>\n",
       "    </tr>\n",
       "    <tr>\n",
       "      <th>3</th>\n",
       "      <td>4</td>\n",
       "      <td>rAdek1ngâ</td>\n",
       "      <td>29,548</td>\n",
       "      <td>South America</td>\n",
       "      <td>75</td>\n",
       "      <td>1</td>\n",
       "      <td>8</td>\n",
       "    </tr>\n",
       "    <tr>\n",
       "      <th>4</th>\n",
       "      <td>5</td>\n",
       "      <td>ð</td>\n",
       "      <td>29,480</td>\n",
       "      <td>Asia</td>\n",
       "      <td>106</td>\n",
       "      <td>0</td>\n",
       "      <td>10</td>\n",
       "    </tr>\n",
       "  </tbody>\n",
       "</table>\n",
       "</div>"
      ],
      "text/plain": [
       "   Rank                 Name CS Rating         Region  Wins  Ties  Losses\n",
       "0     1      sH0oRuk YouTube    31,203           Asia   278     9      98\n",
       "1     2  TTpo100Razeb Daniel    29,626         Europe   250    12     174\n",
       "2     3           REZPEZTâ¢    29,588         Europe   133     2      58\n",
       "3     4          rAdek1ngâ    29,548  South America    75     1       8\n",
       "4     5                 ð    29,480           Asia   106     0      10"
      ]
     },
     "execution_count": 21,
     "metadata": {},
     "output_type": "execute_result"
    }
   ],
   "source": [
    "players = pd.read_csv(\"top_100_players.csv\")\n",
    "players.head()"
   ]
  },
  {
   "cell_type": "code",
   "execution_count": 41,
   "metadata": {},
   "outputs": [
    {
     "data": {
      "text/plain": [
       "Rank          int64\n",
       "Name         object\n",
       "CS Rating    object\n",
       "Region       object\n",
       "Wins          int64\n",
       "Ties          int64\n",
       "Losses        int64\n",
       "dtype: object"
      ]
     },
     "execution_count": 41,
     "metadata": {},
     "output_type": "execute_result"
    }
   ],
   "source": [
    "players.dtypes"
   ]
  },
  {
   "cell_type": "code",
   "execution_count": 42,
   "metadata": {},
   "outputs": [
    {
     "data": {
      "text/html": [
       "<div>\n",
       "<style scoped>\n",
       "    .dataframe tbody tr th:only-of-type {\n",
       "        vertical-align: middle;\n",
       "    }\n",
       "\n",
       "    .dataframe tbody tr th {\n",
       "        vertical-align: top;\n",
       "    }\n",
       "\n",
       "    .dataframe thead th {\n",
       "        text-align: right;\n",
       "    }\n",
       "</style>\n",
       "<table border=\"1\" class=\"dataframe\">\n",
       "  <thead>\n",
       "    <tr style=\"text-align: right;\">\n",
       "      <th></th>\n",
       "      <th>Rank</th>\n",
       "      <th>Wins</th>\n",
       "      <th>Ties</th>\n",
       "      <th>Losses</th>\n",
       "    </tr>\n",
       "  </thead>\n",
       "  <tbody>\n",
       "    <tr>\n",
       "      <th>count</th>\n",
       "      <td>100.000000</td>\n",
       "      <td>100.00000</td>\n",
       "      <td>100.000000</td>\n",
       "      <td>100.000000</td>\n",
       "    </tr>\n",
       "    <tr>\n",
       "      <th>mean</th>\n",
       "      <td>50.500000</td>\n",
       "      <td>95.96000</td>\n",
       "      <td>2.170000</td>\n",
       "      <td>35.190000</td>\n",
       "    </tr>\n",
       "    <tr>\n",
       "      <th>std</th>\n",
       "      <td>29.011492</td>\n",
       "      <td>73.86432</td>\n",
       "      <td>3.206858</td>\n",
       "      <td>47.761126</td>\n",
       "    </tr>\n",
       "    <tr>\n",
       "      <th>min</th>\n",
       "      <td>1.000000</td>\n",
       "      <td>21.00000</td>\n",
       "      <td>0.000000</td>\n",
       "      <td>0.000000</td>\n",
       "    </tr>\n",
       "    <tr>\n",
       "      <th>25%</th>\n",
       "      <td>25.750000</td>\n",
       "      <td>37.75000</td>\n",
       "      <td>0.000000</td>\n",
       "      <td>7.000000</td>\n",
       "    </tr>\n",
       "    <tr>\n",
       "      <th>50%</th>\n",
       "      <td>50.500000</td>\n",
       "      <td>79.50000</td>\n",
       "      <td>1.000000</td>\n",
       "      <td>16.000000</td>\n",
       "    </tr>\n",
       "    <tr>\n",
       "      <th>75%</th>\n",
       "      <td>75.250000</td>\n",
       "      <td>130.25000</td>\n",
       "      <td>2.250000</td>\n",
       "      <td>44.000000</td>\n",
       "    </tr>\n",
       "    <tr>\n",
       "      <th>max</th>\n",
       "      <td>100.000000</td>\n",
       "      <td>376.00000</td>\n",
       "      <td>17.000000</td>\n",
       "      <td>305.000000</td>\n",
       "    </tr>\n",
       "  </tbody>\n",
       "</table>\n",
       "</div>"
      ],
      "text/plain": [
       "             Rank       Wins        Ties      Losses\n",
       "count  100.000000  100.00000  100.000000  100.000000\n",
       "mean    50.500000   95.96000    2.170000   35.190000\n",
       "std     29.011492   73.86432    3.206858   47.761126\n",
       "min      1.000000   21.00000    0.000000    0.000000\n",
       "25%     25.750000   37.75000    0.000000    7.000000\n",
       "50%     50.500000   79.50000    1.000000   16.000000\n",
       "75%     75.250000  130.25000    2.250000   44.000000\n",
       "max    100.000000  376.00000   17.000000  305.000000"
      ]
     },
     "execution_count": 42,
     "metadata": {},
     "output_type": "execute_result"
    }
   ],
   "source": [
    "players.describe()"
   ]
  },
  {
   "cell_type": "code",
   "execution_count": 53,
   "metadata": {},
   "outputs": [
    {
     "name": "stdout",
     "output_type": "stream",
     "text": [
      "<class 'pandas.core.frame.DataFrame'>\n",
      "RangeIndex: 100 entries, 0 to 99\n",
      "Data columns (total 7 columns):\n",
      " #   Column     Non-Null Count  Dtype \n",
      "---  ------     --------------  ----- \n",
      " 0   Rank       100 non-null    int64 \n",
      " 1   Name       100 non-null    object\n",
      " 2   CS Rating  100 non-null    int32 \n",
      " 3   Region     100 non-null    object\n",
      " 4   Wins       100 non-null    int64 \n",
      " 5   Ties       100 non-null    int64 \n",
      " 6   Losses     100 non-null    int64 \n",
      "dtypes: int32(1), int64(4), object(2)\n",
      "memory usage: 5.2+ KB\n"
     ]
    }
   ],
   "source": [
    "players.info()"
   ]
  },
  {
   "cell_type": "code",
   "execution_count": 60,
   "metadata": {},
   "outputs": [
    {
     "data": {
      "text/plain": [
       "Rank   Name   CS Rating  Region  Wins   Ties   Losses\n",
       "False  False  False      False   False  False  False     100\n",
       "Name: count, dtype: int64"
      ]
     },
     "execution_count": 60,
     "metadata": {},
     "output_type": "execute_result"
    }
   ],
   "source": [
    "players.isna().value_counts()"
   ]
  },
  {
   "cell_type": "code",
   "execution_count": 43,
   "metadata": {},
   "outputs": [
    {
     "data": {
      "text/plain": [
       "Index(['Rank', 'Name', 'CS Rating', 'Region', 'Wins', 'Ties', 'Losses'], dtype='object')"
      ]
     },
     "execution_count": 43,
     "metadata": {},
     "output_type": "execute_result"
    }
   ],
   "source": [
    "players.columns"
   ]
  },
  {
   "cell_type": "code",
   "execution_count": 22,
   "metadata": {},
   "outputs": [],
   "source": [
    "players[\"CS Rating\"] = players[\"CS Rating\"].str.replace(\",\", \"\").astype(\"int\")"
   ]
  },
  {
   "cell_type": "code",
   "execution_count": 48,
   "metadata": {},
   "outputs": [
    {
     "data": {
      "text/html": [
       "<div>\n",
       "<style scoped>\n",
       "    .dataframe tbody tr th:only-of-type {\n",
       "        vertical-align: middle;\n",
       "    }\n",
       "\n",
       "    .dataframe tbody tr th {\n",
       "        vertical-align: top;\n",
       "    }\n",
       "\n",
       "    .dataframe thead th {\n",
       "        text-align: right;\n",
       "    }\n",
       "</style>\n",
       "<table border=\"1\" class=\"dataframe\">\n",
       "  <thead>\n",
       "    <tr style=\"text-align: right;\">\n",
       "      <th></th>\n",
       "      <th>Rank</th>\n",
       "      <th>Name</th>\n",
       "      <th>CS Rating</th>\n",
       "      <th>Region</th>\n",
       "      <th>Wins</th>\n",
       "      <th>Ties</th>\n",
       "      <th>Losses</th>\n",
       "    </tr>\n",
       "  </thead>\n",
       "  <tbody>\n",
       "    <tr>\n",
       "      <th>0</th>\n",
       "      <td>1</td>\n",
       "      <td>sH0oRuk YouTube</td>\n",
       "      <td>31203</td>\n",
       "      <td>Asia</td>\n",
       "      <td>278</td>\n",
       "      <td>9</td>\n",
       "      <td>98</td>\n",
       "    </tr>\n",
       "    <tr>\n",
       "      <th>1</th>\n",
       "      <td>2</td>\n",
       "      <td>TTpo100Razeb Daniel</td>\n",
       "      <td>29626</td>\n",
       "      <td>Europe</td>\n",
       "      <td>250</td>\n",
       "      <td>12</td>\n",
       "      <td>174</td>\n",
       "    </tr>\n",
       "    <tr>\n",
       "      <th>2</th>\n",
       "      <td>3</td>\n",
       "      <td>REZPEZTâ¢</td>\n",
       "      <td>29588</td>\n",
       "      <td>Europe</td>\n",
       "      <td>133</td>\n",
       "      <td>2</td>\n",
       "      <td>58</td>\n",
       "    </tr>\n",
       "    <tr>\n",
       "      <th>3</th>\n",
       "      <td>4</td>\n",
       "      <td>rAdek1ngâ</td>\n",
       "      <td>29548</td>\n",
       "      <td>South America</td>\n",
       "      <td>75</td>\n",
       "      <td>1</td>\n",
       "      <td>8</td>\n",
       "    </tr>\n",
       "    <tr>\n",
       "      <th>4</th>\n",
       "      <td>5</td>\n",
       "      <td>ð</td>\n",
       "      <td>29480</td>\n",
       "      <td>Asia</td>\n",
       "      <td>106</td>\n",
       "      <td>0</td>\n",
       "      <td>10</td>\n",
       "    </tr>\n",
       "  </tbody>\n",
       "</table>\n",
       "</div>"
      ],
      "text/plain": [
       "   Rank                 Name  CS Rating         Region  Wins  Ties  Losses\n",
       "0     1      sH0oRuk YouTube      31203           Asia   278     9      98\n",
       "1     2  TTpo100Razeb Daniel      29626         Europe   250    12     174\n",
       "2     3           REZPEZTâ¢      29588         Europe   133     2      58\n",
       "3     4          rAdek1ngâ      29548  South America    75     1       8\n",
       "4     5                 ð      29480           Asia   106     0      10"
      ]
     },
     "execution_count": 48,
     "metadata": {},
     "output_type": "execute_result"
    }
   ],
   "source": [
    "players.head()"
   ]
  },
  {
   "cell_type": "code",
   "execution_count": 49,
   "metadata": {},
   "outputs": [
    {
     "data": {
      "text/plain": [
       "Rank          int64\n",
       "Name         object\n",
       "CS Rating     int32\n",
       "Region       object\n",
       "Wins          int64\n",
       "Ties          int64\n",
       "Losses        int64\n",
       "dtype: object"
      ]
     },
     "execution_count": 49,
     "metadata": {},
     "output_type": "execute_result"
    }
   ],
   "source": [
    "players.dtypes"
   ]
  },
  {
   "cell_type": "code",
   "execution_count": 3,
   "metadata": {},
   "outputs": [
    {
     "data": {
      "text/html": [
       "<div>\n",
       "<style scoped>\n",
       "    .dataframe tbody tr th:only-of-type {\n",
       "        vertical-align: middle;\n",
       "    }\n",
       "\n",
       "    .dataframe tbody tr th {\n",
       "        vertical-align: top;\n",
       "    }\n",
       "\n",
       "    .dataframe thead th {\n",
       "        text-align: right;\n",
       "    }\n",
       "</style>\n",
       "<table border=\"1\" class=\"dataframe\">\n",
       "  <thead>\n",
       "    <tr style=\"text-align: right;\">\n",
       "      <th></th>\n",
       "      <th>Weapon</th>\n",
       "      <th>KPR</th>\n",
       "      <th>HS %</th>\n",
       "      <th>Chest %</th>\n",
       "      <th>Leg %</th>\n",
       "      <th>Total Kills</th>\n",
       "    </tr>\n",
       "  </thead>\n",
       "  <tbody>\n",
       "    <tr>\n",
       "      <th>0</th>\n",
       "      <td>AK-47</td>\n",
       "      <td>1.2</td>\n",
       "      <td>17.8%</td>\n",
       "      <td>59.4%</td>\n",
       "      <td>16.7%</td>\n",
       "      <td>370,567</td>\n",
       "    </tr>\n",
       "    <tr>\n",
       "      <th>1</th>\n",
       "      <td>M4A1-S</td>\n",
       "      <td>1.1</td>\n",
       "      <td>14.6%</td>\n",
       "      <td>60.3%</td>\n",
       "      <td>18.3%</td>\n",
       "      <td>181,934</td>\n",
       "    </tr>\n",
       "    <tr>\n",
       "      <th>2</th>\n",
       "      <td>AWP</td>\n",
       "      <td>1.6</td>\n",
       "      <td>14.5%</td>\n",
       "      <td>68.7%</td>\n",
       "      <td>10.1%</td>\n",
       "      <td>164,754</td>\n",
       "    </tr>\n",
       "    <tr>\n",
       "      <th>3</th>\n",
       "      <td>M4A1</td>\n",
       "      <td>1.2</td>\n",
       "      <td>18.0%</td>\n",
       "      <td>60.6%</td>\n",
       "      <td>15.5%</td>\n",
       "      <td>104,012</td>\n",
       "    </tr>\n",
       "    <tr>\n",
       "      <th>4</th>\n",
       "      <td>USP-S</td>\n",
       "      <td>0.9</td>\n",
       "      <td>21.2%</td>\n",
       "      <td>63.5%</td>\n",
       "      <td>10.5%</td>\n",
       "      <td>94,958</td>\n",
       "    </tr>\n",
       "  </tbody>\n",
       "</table>\n",
       "</div>"
      ],
      "text/plain": [
       "   Weapon  KPR   HS % Chest %  Leg % Total Kills\n",
       "0   AK-47  1.2  17.8%   59.4%  16.7%     370,567\n",
       "1  M4A1-S  1.1  14.6%   60.3%  18.3%     181,934\n",
       "2     AWP  1.6  14.5%   68.7%  10.1%     164,754\n",
       "3    M4A1  1.2  18.0%   60.6%  15.5%     104,012\n",
       "4   USP-S  0.9  21.2%   63.5%  10.5%      94,958"
      ]
     },
     "execution_count": 3,
     "metadata": {},
     "output_type": "execute_result"
    }
   ],
   "source": [
    "weapons = pd.read_csv(\"weapons_statistics.csv\")\n",
    "weapons.head()"
   ]
  },
  {
   "cell_type": "code",
   "execution_count": 4,
   "metadata": {},
   "outputs": [
    {
     "name": "stdout",
     "output_type": "stream",
     "text": [
      "<class 'pandas.core.frame.DataFrame'>\n",
      "RangeIndex: 20 entries, 0 to 19\n",
      "Data columns (total 6 columns):\n",
      " #   Column       Non-Null Count  Dtype  \n",
      "---  ------       --------------  -----  \n",
      " 0   Weapon       20 non-null     object \n",
      " 1   KPR          20 non-null     float64\n",
      " 2   HS %         20 non-null     object \n",
      " 3   Chest %      20 non-null     object \n",
      " 4   Leg %        20 non-null     object \n",
      " 5   Total Kills  20 non-null     object \n",
      "dtypes: float64(1), object(5)\n",
      "memory usage: 1.1+ KB\n"
     ]
    }
   ],
   "source": [
    "weapons.info()"
   ]
  },
  {
   "cell_type": "code",
   "execution_count": 5,
   "metadata": {},
   "outputs": [
    {
     "data": {
      "text/plain": [
       "Weapon  KPR    HS %   Chest %  Leg %  Total Kills\n",
       "False   False  False  False    False  False          20\n",
       "Name: count, dtype: int64"
      ]
     },
     "execution_count": 5,
     "metadata": {},
     "output_type": "execute_result"
    }
   ],
   "source": [
    "weapons.isna().value_counts()"
   ]
  },
  {
   "cell_type": "code",
   "execution_count": 6,
   "metadata": {},
   "outputs": [
    {
     "data": {
      "text/html": [
       "<div>\n",
       "<style scoped>\n",
       "    .dataframe tbody tr th:only-of-type {\n",
       "        vertical-align: middle;\n",
       "    }\n",
       "\n",
       "    .dataframe tbody tr th {\n",
       "        vertical-align: top;\n",
       "    }\n",
       "\n",
       "    .dataframe thead th {\n",
       "        text-align: right;\n",
       "    }\n",
       "</style>\n",
       "<table border=\"1\" class=\"dataframe\">\n",
       "  <thead>\n",
       "    <tr style=\"text-align: right;\">\n",
       "      <th></th>\n",
       "      <th>KPR</th>\n",
       "    </tr>\n",
       "  </thead>\n",
       "  <tbody>\n",
       "    <tr>\n",
       "      <th>count</th>\n",
       "      <td>20.000000</td>\n",
       "    </tr>\n",
       "    <tr>\n",
       "      <th>mean</th>\n",
       "      <td>1.060000</td>\n",
       "    </tr>\n",
       "    <tr>\n",
       "      <th>std</th>\n",
       "      <td>0.290915</td>\n",
       "    </tr>\n",
       "    <tr>\n",
       "      <th>min</th>\n",
       "      <td>0.700000</td>\n",
       "    </tr>\n",
       "    <tr>\n",
       "      <th>25%</th>\n",
       "      <td>0.875000</td>\n",
       "    </tr>\n",
       "    <tr>\n",
       "      <th>50%</th>\n",
       "      <td>1.000000</td>\n",
       "    </tr>\n",
       "    <tr>\n",
       "      <th>75%</th>\n",
       "      <td>1.200000</td>\n",
       "    </tr>\n",
       "    <tr>\n",
       "      <th>max</th>\n",
       "      <td>1.900000</td>\n",
       "    </tr>\n",
       "  </tbody>\n",
       "</table>\n",
       "</div>"
      ],
      "text/plain": [
       "             KPR\n",
       "count  20.000000\n",
       "mean    1.060000\n",
       "std     0.290915\n",
       "min     0.700000\n",
       "25%     0.875000\n",
       "50%     1.000000\n",
       "75%     1.200000\n",
       "max     1.900000"
      ]
     },
     "execution_count": 6,
     "metadata": {},
     "output_type": "execute_result"
    }
   ],
   "source": [
    "weapons.describe()"
   ]
  },
  {
   "cell_type": "code",
   "execution_count": 7,
   "metadata": {},
   "outputs": [
    {
     "data": {
      "text/plain": [
       "Index(['Weapon', 'KPR', 'HS-%', 'Chest-%', 'Leg-%', 'Total-Kills'], dtype='object')"
      ]
     },
     "execution_count": 7,
     "metadata": {},
     "output_type": "execute_result"
    }
   ],
   "source": [
    "weapons.rename(columns={\"HS %\": \"HS-%\", \"Chest %\": \"Chest-%\", \"Leg %\": \"Leg-%\", \"Total Kills\": \"Total-Kills\"}, inplace=True)\n",
    "weapons.columns"
   ]
  },
  {
   "cell_type": "code",
   "execution_count": 8,
   "metadata": {},
   "outputs": [],
   "source": [
    "weapons[\"HS-%\"] = weapons[\"HS-%\"].str.rstrip(\"%\").astype(\"float\")\n",
    "weapons[\"Chest-%\"] = weapons[\"Chest-%\"].str.rstrip(\"%\").astype(\"float\")\n",
    "weapons[\"Leg-%\"] = weapons[\"Leg-%\"].str.rstrip(\"%\").astype(\"float\")\n",
    "weapons[\"Total-Kills\"] = weapons[\"Total-Kills\"].str.replace(\",\", \"\")"
   ]
  },
  {
   "cell_type": "code",
   "execution_count": 16,
   "metadata": {},
   "outputs": [],
   "source": [
    "weapons[\"Total-Kills\"] = weapons[\"Total-Kills\"].astype(\"int\")"
   ]
  },
  {
   "cell_type": "code",
   "execution_count": 17,
   "metadata": {},
   "outputs": [
    {
     "data": {
      "text/plain": [
       "Weapon          object\n",
       "KPR            float64\n",
       "HS-%           float64\n",
       "Chest-%        float64\n",
       "Leg-%          float64\n",
       "Total-Kills      int32\n",
       "dtype: object"
      ]
     },
     "execution_count": 17,
     "metadata": {},
     "output_type": "execute_result"
    }
   ],
   "source": [
    "weapons.dtypes"
   ]
  },
  {
   "cell_type": "code",
   "execution_count": 28,
   "metadata": {},
   "outputs": [
    {
     "data": {
      "image/png": "[encoded data removed]",
      "text/plain": [
       "<Figure size 640x480 with 1 Axes>"
      ]
     },
     "metadata": {},
     "output_type": "display_data"
    },
    {
     "data": {
      "text/plain": [
       "<Figure size 640x480 with 0 Axes>"
      ]
     },
     "metadata": {},
     "output_type": "display_data"
    }
   ],
   "source": [
    "sns.barplot(x = maps[\"Map\"], y = maps[\"Play Rate\"])\n",
    "plt.xlabel(\"Maps\")\n",
    "plt.ylabel(\"Play Rate %\")\n",
    "plt.title(\"Maps X Play Rate\")\n",
    "plt.xticks(rotation=45, ha='right')\n",
    "\n",
    "plt.show()\n",
    "plt.clf()"
   ]
  },
  {
   "cell_type": "code",
   "execution_count": 23,
   "metadata": {},
   "outputs": [
    {
     "data": {
      "text/html": [
       "<div>\n",
       "<style scoped>\n",
       "    .dataframe tbody tr th:only-of-type {\n",
       "        vertical-align: middle;\n",
       "    }\n",
       "\n",
       "    .dataframe tbody tr th {\n",
       "        vertical-align: top;\n",
       "    }\n",
       "\n",
       "    .dataframe thead th {\n",
       "        text-align: right;\n",
       "    }\n",
       "</style>\n",
       "<table border=\"1\" class=\"dataframe\">\n",
       "  <thead>\n",
       "    <tr style=\"text-align: right;\">\n",
       "      <th></th>\n",
       "      <th>Map</th>\n",
       "      <th>Play Rate</th>\n",
       "      <th>T-Win</th>\n",
       "      <th>CT-Win</th>\n",
       "      <th>Matches</th>\n",
       "    </tr>\n",
       "  </thead>\n",
       "  <tbody>\n",
       "    <tr>\n",
       "      <th>0</th>\n",
       "      <td>Dust II</td>\n",
       "      <td>26.7</td>\n",
       "      <td>49.2</td>\n",
       "      <td>50.8</td>\n",
       "      <td>168288</td>\n",
       "    </tr>\n",
       "    <tr>\n",
       "      <th>1</th>\n",
       "      <td>Mirage</td>\n",
       "      <td>23.9</td>\n",
       "      <td>49.1</td>\n",
       "      <td>50.9</td>\n",
       "      <td>150883</td>\n",
       "    </tr>\n",
       "    <tr>\n",
       "      <th>2</th>\n",
       "      <td>Inferno</td>\n",
       "      <td>13.1</td>\n",
       "      <td>50.3</td>\n",
       "      <td>49.7</td>\n",
       "      <td>82737</td>\n",
       "    </tr>\n",
       "    <tr>\n",
       "      <th>3</th>\n",
       "      <td>Nuke</td>\n",
       "      <td>4.3</td>\n",
       "      <td>47.0</td>\n",
       "      <td>53.0</td>\n",
       "      <td>27211</td>\n",
       "    </tr>\n",
       "    <tr>\n",
       "      <th>4</th>\n",
       "      <td>Vertigo</td>\n",
       "      <td>4.0</td>\n",
       "      <td>47.8</td>\n",
       "      <td>52.2</td>\n",
       "      <td>25390</td>\n",
       "    </tr>\n",
       "  </tbody>\n",
       "</table>\n",
       "</div>"
      ],
      "text/plain": [
       "       Map  Play Rate  T-Win  CT-Win  Matches\n",
       "0  Dust II       26.7   49.2    50.8   168288\n",
       "1   Mirage       23.9   49.1    50.9   150883\n",
       "2  Inferno       13.1   50.3    49.7    82737\n",
       "3     Nuke        4.3   47.0    53.0    27211\n",
       "4  Vertigo        4.0   47.8    52.2    25390"
      ]
     },
     "execution_count": 23,
     "metadata": {},
     "output_type": "execute_result"
    }
   ],
   "source": [
    "maps.head()"
   ]
  },
  {
   "cell_type": "code",
   "execution_count": 29,
   "metadata": {},
   "outputs": [
    {
     "data": {
      "image/png": "[encoded data removed]",
      "text/plain": [
       "<Figure size 640x480 with 1 Axes>"
      ]
     },
     "metadata": {},
     "output_type": "display_data"
    },
    {
     "data": {
      "text/plain": [
       "<Figure size 640x480 with 0 Axes>"
      ]
     },
     "metadata": {},
     "output_type": "display_data"
    }
   ],
   "source": [
    "sns.barplot(x = maps[\"Map\"], y = maps[\"T-Win\"])\n",
    "plt.xlabel(\"Maps\")\n",
    "plt.ylabel(\"Terrorit Win %\")\n",
    "plt.title(\"% Win of Terrorist by maps\")\n",
    "plt.xticks(rotation=45, ha='right')\n",
    "\n",
    "plt.show()\n",
    "plt.clf()"
   ]
  },
  {
   "cell_type": "code",
   "execution_count": 30,
   "metadata": {},
   "outputs": [
    {
     "data": {
      "text/html": [
       "<div>\n",
       "<style scoped>\n",
       "    .dataframe tbody tr th:only-of-type {\n",
       "        vertical-align: middle;\n",
       "    }\n",
       "\n",
       "    .dataframe tbody tr th {\n",
       "        vertical-align: top;\n",
       "    }\n",
       "\n",
       "    .dataframe thead th {\n",
       "        text-align: right;\n",
       "    }\n",
       "</style>\n",
       "<table border=\"1\" class=\"dataframe\">\n",
       "  <thead>\n",
       "    <tr style=\"text-align: right;\">\n",
       "      <th></th>\n",
       "      <th>Weapon</th>\n",
       "      <th>KPR</th>\n",
       "      <th>HS-%</th>\n",
       "      <th>Chest-%</th>\n",
       "      <th>Leg-%</th>\n",
       "      <th>Total-Kills</th>\n",
       "    </tr>\n",
       "  </thead>\n",
       "  <tbody>\n",
       "    <tr>\n",
       "      <th>0</th>\n",
       "      <td>AK-47</td>\n",
       "      <td>1.2</td>\n",
       "      <td>17.8</td>\n",
       "      <td>59.4</td>\n",
       "      <td>16.7</td>\n",
       "      <td>370567</td>\n",
       "    </tr>\n",
       "    <tr>\n",
       "      <th>1</th>\n",
       "      <td>M4A1-S</td>\n",
       "      <td>1.1</td>\n",
       "      <td>14.6</td>\n",
       "      <td>60.3</td>\n",
       "      <td>18.3</td>\n",
       "      <td>181934</td>\n",
       "    </tr>\n",
       "    <tr>\n",
       "      <th>2</th>\n",
       "      <td>AWP</td>\n",
       "      <td>1.6</td>\n",
       "      <td>14.5</td>\n",
       "      <td>68.7</td>\n",
       "      <td>10.1</td>\n",
       "      <td>164754</td>\n",
       "    </tr>\n",
       "    <tr>\n",
       "      <th>3</th>\n",
       "      <td>M4A1</td>\n",
       "      <td>1.2</td>\n",
       "      <td>18.0</td>\n",
       "      <td>60.6</td>\n",
       "      <td>15.5</td>\n",
       "      <td>104012</td>\n",
       "    </tr>\n",
       "    <tr>\n",
       "      <th>4</th>\n",
       "      <td>USP-S</td>\n",
       "      <td>0.9</td>\n",
       "      <td>21.2</td>\n",
       "      <td>63.5</td>\n",
       "      <td>10.5</td>\n",
       "      <td>94958</td>\n",
       "    </tr>\n",
       "  </tbody>\n",
       "</table>\n",
       "</div>"
      ],
      "text/plain": [
       "   Weapon  KPR  HS-%  Chest-%  Leg-%  Total-Kills\n",
       "0   AK-47  1.2  17.8     59.4   16.7       370567\n",
       "1  M4A1-S  1.1  14.6     60.3   18.3       181934\n",
       "2     AWP  1.6  14.5     68.7   10.1       164754\n",
       "3    M4A1  1.2  18.0     60.6   15.5       104012\n",
       "4   USP-S  0.9  21.2     63.5   10.5        94958"
      ]
     },
     "execution_count": 30,
     "metadata": {},
     "output_type": "execute_result"
    }
   ],
   "source": [
    "weapons.head()"
   ]
  },
  {
   "cell_type": "code",
   "execution_count": 45,
   "metadata": {},
   "outputs": [
    {
     "data": {
      "image/png": "[encoded data removed]",
      "text/plain": [
       "<Figure size 640x480 with 1 Axes>"
      ]
     },
     "metadata": {},
     "output_type": "display_data"
    },
    {
     "data": {
      "text/plain": [
       "<Figure size 640x480 with 0 Axes>"
      ]
     },
     "metadata": {},
     "output_type": "display_data"
    }
   ],
   "source": [
    "colors = sns.color_palette(\"bright\")\n",
    "\n",
    "plt.pie(x = weapons[\"HS-%\"][0:5], labels = weapons[\"Weapon\"][0:5], colors = colors)\n",
    "plt.title(\"Top 15 kills by Weapons\")\n",
    "plt.show()\n",
    "plt.clf()\n"
   ]
  },
  {
   "cell_type": "code",
   "execution_count": 48,
   "metadata": {},
   "outputs": [
    {
     "data": {
      "image/png": "[encoded data removed]",
      "text/plain": [
       "<Figure size 640x480 with 1 Axes>"
      ]
     },
     "metadata": {},
     "output_type": "display_data"
    }
   ],
   "source": [
    "sns.set(style = 'whitegrid')\n",
    "sns.barplot(data = weapons, x = weapons['Weapon'][0:5], y = weapons['HS-%'])\n",
    "plt.title('Top 5 weapon')\n",
    "plt.show()"
   ]
  },
  {
   "cell_type": "code",
   "execution_count": 49,
   "metadata": {},
   "outputs": [
    {
     "data": {
      "text/html": [
       "<div>\n",
       "<style scoped>\n",
       "    .dataframe tbody tr th:only-of-type {\n",
       "        vertical-align: middle;\n",
       "    }\n",
       "\n",
       "    .dataframe tbody tr th {\n",
       "        vertical-align: top;\n",
       "    }\n",
       "\n",
       "    .dataframe thead th {\n",
       "        text-align: right;\n",
       "    }\n",
       "</style>\n",
       "<table border=\"1\" class=\"dataframe\">\n",
       "  <thead>\n",
       "    <tr style=\"text-align: right;\">\n",
       "      <th></th>\n",
       "      <th>Rank</th>\n",
       "      <th>Name</th>\n",
       "      <th>CS Rating</th>\n",
       "      <th>Region</th>\n",
       "      <th>Wins</th>\n",
       "      <th>Ties</th>\n",
       "      <th>Losses</th>\n",
       "    </tr>\n",
       "  </thead>\n",
       "  <tbody>\n",
       "    <tr>\n",
       "      <th>0</th>\n",
       "      <td>1</td>\n",
       "      <td>sH0oRuk YouTube</td>\n",
       "      <td>31203</td>\n",
       "      <td>Asia</td>\n",
       "      <td>278</td>\n",
       "      <td>9</td>\n",
       "      <td>98</td>\n",
       "    </tr>\n",
       "    <tr>\n",
       "      <th>1</th>\n",
       "      <td>2</td>\n",
       "      <td>TTpo100Razeb Daniel</td>\n",
       "      <td>29626</td>\n",
       "      <td>Europe</td>\n",
       "      <td>250</td>\n",
       "      <td>12</td>\n",
       "      <td>174</td>\n",
       "    </tr>\n",
       "    <tr>\n",
       "      <th>2</th>\n",
       "      <td>3</td>\n",
       "      <td>REZPEZTâ¢</td>\n",
       "      <td>29588</td>\n",
       "      <td>Europe</td>\n",
       "      <td>133</td>\n",
       "      <td>2</td>\n",
       "      <td>58</td>\n",
       "    </tr>\n",
       "    <tr>\n",
       "      <th>3</th>\n",
       "      <td>4</td>\n",
       "      <td>rAdek1ngâ</td>\n",
       "      <td>29548</td>\n",
       "      <td>South America</td>\n",
       "      <td>75</td>\n",
       "      <td>1</td>\n",
       "      <td>8</td>\n",
       "    </tr>\n",
       "    <tr>\n",
       "      <th>4</th>\n",
       "      <td>5</td>\n",
       "      <td>ð</td>\n",
       "      <td>29480</td>\n",
       "      <td>Asia</td>\n",
       "      <td>106</td>\n",
       "      <td>0</td>\n",
       "      <td>10</td>\n",
       "    </tr>\n",
       "  </tbody>\n",
       "</table>\n",
       "</div>"
      ],
      "text/plain": [
       "   Rank                 Name  CS Rating         Region  Wins  Ties  Losses\n",
       "0     1      sH0oRuk YouTube      31203           Asia   278     9      98\n",
       "1     2  TTpo100Razeb Daniel      29626         Europe   250    12     174\n",
       "2     3           REZPEZTâ¢      29588         Europe   133     2      58\n",
       "3     4          rAdek1ngâ      29548  South America    75     1       8\n",
       "4     5                 ð      29480           Asia   106     0      10"
      ]
     },
     "execution_count": 49,
     "metadata": {},
     "output_type": "execute_result"
    }
   ],
   "source": [
    "players.head()"
   ]
  },
  {
   "cell_type": "code",
   "execution_count": 53,
   "metadata": {},
   "outputs": [
    {
     "data": {
      "image/png": "[encoded data removed]",
      "text/plain": [
       "<Figure size 640x480 with 1 Axes>"
      ]
     },
     "metadata": {},
     "output_type": "display_data"
    },
    {
     "data": {
      "text/plain": [
       "<Figure size 640x480 with 0 Axes>"
      ]
     },
     "metadata": {},
     "output_type": "display_data"
    }
   ],
   "source": [
    "regions_count = players[\"Region\"].value_counts()\n",
    "sns.barplot(x = regions_count.index, y = regions_count.values)\n",
    "plt.title(\"Number of players from Regions\")\n",
    "\n",
    "plt.show()\n",
    "plt.clf()"
   ]
  }
 ],
 "metadata": {
  "kernelspec": {
   "display_name": "Python 3",
   "language": "python",
   "name": "python3"
  },
  "language_info": {
   "codemirror_mode": {
    "name": "ipython",
    "version": 3
   },
   "file_extension": ".py",
   "mimetype": "text/x-python",
   "name": "python",
   "nbconvert_exporter": "python",
   "pygments_lexer": "ipython3",
   "version": "3.12.0"
  }
 },
 "nbformat": 4,
 "nbformat_minor": 2
}
